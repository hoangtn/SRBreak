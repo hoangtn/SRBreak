{
 "cells": [
  {
   "cell_type": "markdown",
   "metadata": {},
   "source": [
    "## Test for chromosome 21"
   ]
  },
  {
   "cell_type": "code",
   "execution_count": 1,
   "metadata": {
    "collapsed": false
   },
   "outputs": [
    {
     "name": "stderr",
     "output_type": "stream",
     "text": [
      "Loading required package: BiocGenerics\n",
      "Loading required package: parallel\n",
      "\n",
      "Attaching package: ‘BiocGenerics’\n",
      "\n",
      "The following objects are masked from ‘package:parallel’:\n",
      "\n",
      "    clusterApply, clusterApplyLB, clusterCall, clusterEvalQ,\n",
      "    clusterExport, clusterMap, parApply, parCapply, parLapply,\n",
      "    parLapplyLB, parRapply, parSapply, parSapplyLB\n",
      "\n",
      "The following object is masked from ‘package:stats’:\n",
      "\n",
      "    xtabs\n",
      "\n",
      "The following objects are masked from ‘package:base’:\n",
      "\n",
      "    anyDuplicated, append, as.data.frame, as.vector, cbind, colnames,\n",
      "    do.call, duplicated, eval, evalq, Filter, Find, get, intersect,\n",
      "    is.unsorted, lapply, Map, mapply, match, mget, order, paste, pmax,\n",
      "    pmax.int, pmin, pmin.int, Position, rank, rbind, Reduce, rep.int,\n",
      "    rownames, sapply, setdiff, sort, table, tapply, union, unique,\n",
      "    unlist, unsplit\n",
      "\n",
      "Loading required package: GenomeInfoDb\n",
      "Loading required package: stats4\n",
      "Loading required package: S4Vectors\n",
      "Creating a generic function for ‘nchar’ from package ‘base’ in package ‘S4Vectors’\n",
      "Loading required package: IRanges\n",
      "Loading required package: GenomicRanges\n",
      "Loading required package: Rsamtools\n",
      "Loading required package: XVector\n",
      "Loading required package: Biostrings\n",
      "\n",
      "Attaching package: ‘VariantAnnotation’\n",
      "\n",
      "The following object is masked from ‘package:base’:\n",
      "\n",
      "    tabulate\n",
      "\n",
      "Loading required package: BSgenome\n",
      "Loading required package: rtracklayer\n",
      "Package 'mclust' version 5.1\n",
      "Type 'citation(\"mclust\")' for citing this R package in publications.\n",
      "Warning message:\n",
      "In SRBreak(readDepthWindow = windows, chr = chr, st = st, en = en, : No input for dirCoordinateWarning message:\n",
      "In dir.create(dirCoordinate): 'TempAll' already exists=============================================\n",
      "5 bam files were read\n",
      "=============================================\n",
      "Correcting the GC content\n",
      "Correcting mappability bias\n"
     ]
    },
    {
     "name": "stdout",
     "output_type": "stream",
     "text": [
      "Analyzing: Chr21.simulateDeletionsFrom1000Genomes.fa.1.x.bwa.sorted.bam \n",
      "Analyzing: Chr21.simulateDeletionsFrom1000Genomes.fa.2.x.bwa.sorted.bam \n",
      "Analyzing: Chr21.simulateDeletionsFrom1000Genomes.fa.3.x.bwa.sorted.bam \n",
      "Analyzing: Chr21.simulateDeletionsFrom1000Genomes.fa.4.x.bwa.sorted.bam \n",
      "Analyzing: Chr21.simulateDeletionsFrom1000Genomes.fa.5.x.bwa.sorted.bam \n"
     ]
    },
    {
     "name": "stderr",
     "output_type": "stream",
     "text": [
      "Calculate segmentation scores for polymorphic regions\n",
      "dim breakpointDataFrame: 778\n"
     ]
    },
    {
     "name": "stdout",
     "output_type": "stream",
     "text": [
      "IRanges of length 6\n",
      "       start      end  width\n",
      "[1]  9411193  9595548 184356\n",
      "[2]  9645548  9775437 129890\n",
      "[3]  9825437  9831950   6514\n",
      "[4]  9835309 10034920 199612\n",
      "[5] 10085035 10215976 130942\n",
      "[6] 10365976 10645979 280004\n"
     ]
    },
    {
     "data": {
      "text/plain": [
       "   user  system elapsed \n",
       "101.936   0.564 103.105 "
      ]
     },
     "execution_count": 1,
     "metadata": {},
     "output_type": "execute_result"
    },
    {
     "data": {
      "text/html": [
       "<ol class=list-inline>\n",
       "\t<li>35</li>\n",
       "\t<li>8</li>\n",
       "</ol>\n"
      ],
      "text/latex": [
       "\\begin{enumerate*}\n",
       "\\item 35\n",
       "\\item 8\n",
       "\\end{enumerate*}\n"
      ],
      "text/markdown": [
       "1. 35\n",
       "2. 8\n",
       "\n",
       "\n"
      ],
      "text/plain": [
       "[1] 35  8"
      ]
     },
     "execution_count": 1,
     "metadata": {},
     "output_type": "execute_result"
    },
    {
     "data": {
      "text/html": [
       "<ol class=list-inline>\n",
       "\t<li>35</li>\n",
       "\t<li>8</li>\n",
       "</ol>\n"
      ],
      "text/latex": [
       "\\begin{enumerate*}\n",
       "\\item 35\n",
       "\\item 8\n",
       "\\end{enumerate*}\n"
      ],
      "text/markdown": [
       "1. 35\n",
       "2. 8\n",
       "\n",
       "\n"
      ],
      "text/plain": [
       "[1] 35  8"
      ]
     },
     "execution_count": 1,
     "metadata": {},
     "output_type": "execute_result"
    }
   ],
   "source": [
    "source(\"allSourceFile.R\")\n",
    "\n",
    "library(\"VariantAnnotation\") \n",
    "library(\"BSgenome.Hsapiens.UCSC.hg19\")\n",
    "library(\"mclust\")\n",
    "library(\"Rsamtools\")\n",
    "\n",
    "#link file: https://www.dropbox.com/sh/wejg4r37kdkjokc/AADglfiSzny1bJ4w1ROAVERoa?dl=0\n",
    "#\n",
    "ePos <- 48129895 ##End position \n",
    "windows = 500\n",
    "\n",
    "dirBamFile = \"./Chr21BamFile/\"\n",
    "\n",
    "segmentalDuplicationFile = paste0(dirBamFile, \"GRCh37GenomicSuperDup.tab.onlyChr21\")\n",
    "##Segmental duplication information can be obtained from here: http://humanparalogy.gs.washington.edu/build37/data/GRCh37GenomicSuperDup.tab\n",
    "##and should be formatted as the file GRCh37GenomicSuperDup.tab.onlyChr21 for each chromosome\n",
    "\n",
    "st = 9500001\n",
    "en = ePos\n",
    "st = 9500001 ##Start position; if we don't know, we can set st = 1 and SRBreak can adjust this value inside to remove unknown regions\n",
    "chr = \"chr21\"\n",
    "\n",
    "system.time(outputSRBreak <- SRBreak(readDepthWindow = windows,##read-depth window size\n",
    "\n",
    "                                     chr = chr, ##Chromosome name\n",
    "\n",
    "                                     st = st, ##Start position\n",
    "\n",
    "                                     en = en, ##End position\n",
    "\n",
    "                                     dirBamFile = dirBamFile, ##Bam files' directory\n",
    "\n",
    "                                     detectAllRegion = TRUE, ##Set this = TRUE in order to obtain all CNV regions\n",
    "\n",
    "                                     rdQualityMapping = 0, ##Mapping quality (used in read-depth method)\n",
    "\n",
    "                                     testType = \"Count\", ##Test type\n",
    "\n",
    "                                     correctGC =  TRUE, #   FALSE, ##Correct GC content\n",
    "\n",
    "                                     upperCNThreshold = 0.25, ##Larger than this threshold is duplication\n",
    "\n",
    "                                     lowerCNThreshold = -0.25, ##Smaller than this threshold is deletion\n",
    "\n",
    "                                     countThreshold = 2, ##Number of duplications/deletions: should be >= 2 \n",
    "\n",
    "                                     minLengthSV = 1000, ##Minimum length of a duplication/deletion event\n",
    "\n",
    "#                                     mappabilityFile = \"wgEncodeCrgMapabilityAlign100mer.bigWig.Window.500.start.1.end.48129895.txt\",\n",
    "                                     usingPairedEnds = FALSE, ##Not use paired-end information,\n",
    "\n",
    "                                     thresholdOfIntersectionBetweenRDandPEM = 0.9 #Not useful if only single-end reads used\n",
    "                                     , segmentalDuplicationFile = segmentalDuplicationFile,\n",
    "                                     adjustStartPosition = TRUE ##Adjust positions\n",
    "                                    ))\n",
    "\n",
    "rawoutputSV <- outputSRBreak$svResult\n",
    "\n",
    "dim(rawoutputSV)\n",
    "\n",
    "\n",
    "finalResult <- rawoutputSV\n",
    "dim(finalResult)\n"
   ]
  },
  {
   "cell_type": "code",
   "execution_count": 2,
   "metadata": {
    "collapsed": false
   },
   "outputs": [
    {
     "data": {
      "text/html": [
       "<table>\n",
       "<thead><tr><th scope=col>chr</th><th scope=col>start</th><th scope=col>end</th><th scope=col>Chr21.simulateDeletionsFrom1000Genomes.fa.1.x.bwa.sorted.bam</th></tr></thead>\n",
       "<tbody>\n",
       "\t<tr><td>chr21   </td><td>16300987</td><td>16304083</td><td>N       </td></tr>\n",
       "\t<tr><td>chr21   </td><td>20836930</td><td>20843326</td><td>DEL     </td></tr>\n",
       "\t<tr><td>chr21   </td><td>21902501</td><td>21906181</td><td>DEL     </td></tr>\n",
       "\t<tr><td>chr21   </td><td>21902731</td><td>21906181</td><td>N       </td></tr>\n",
       "\t<tr><td>chr21   </td><td>23188327</td><td>23202327</td><td>N       </td></tr>\n",
       "\t<tr><td>chr21   </td><td>23188329</td><td>23202327</td><td>N       </td></tr>\n",
       "\t<tr><td>chr21   </td><td>23188501</td><td>23202001</td><td>DEL     </td></tr>\n",
       "\t<tr><td>chr21   </td><td>23654900</td><td>23666011</td><td>DEL     </td></tr>\n",
       "\t<tr><td>chr21   </td><td>24391767</td><td>24393237</td><td>N       </td></tr>\n",
       "\t<tr><td>chr21   </td><td>24391767</td><td>24393001</td><td>N       </td></tr>\n",
       "\t<tr><td>chr21   </td><td>24423315</td><td>24435107</td><td>DEL     </td></tr>\n",
       "\t<tr><td>chr21   </td><td>24423331</td><td>24435107</td><td>N       </td></tr>\n",
       "\t<tr><td>chr21   </td><td>25258373</td><td>25263453</td><td>DEL     </td></tr>\n",
       "\t<tr><td>chr21   </td><td>26344472</td><td>26345763</td><td>N       </td></tr>\n",
       "\t<tr><td>chr21   </td><td>26344482</td><td>26345764</td><td>N       </td></tr>\n",
       "\t<tr><td>chr21   </td><td>26344482</td><td>26345763</td><td>N       </td></tr>\n",
       "\t<tr><td>chr21   </td><td>26359945</td><td>26364584</td><td>DEL     </td></tr>\n",
       "\t<tr><td>chr21   </td><td>26862378</td><td>26865760</td><td>N       </td></tr>\n",
       "\t<tr><td>chr21   </td><td>26862501</td><td>26865760</td><td>DEL     </td></tr>\n",
       "\t<tr><td>chr21   </td><td>27292001</td><td>27296046</td><td>N       </td></tr>\n",
       "\t<tr><td>chr21   </td><td>27292001</td><td>27295539</td><td>N       </td></tr>\n",
       "\t<tr><td>chr21   </td><td>27292501</td><td>27296501</td><td>N       </td></tr>\n",
       "\t<tr><td>chr21   </td><td>29877996</td><td>29881501</td><td>DEL     </td></tr>\n",
       "\t<tr><td>chr21   </td><td>29877996</td><td>29881251</td><td>N       </td></tr>\n",
       "\t<tr><td>chr21   </td><td>29877997</td><td>29881251</td><td>N       </td></tr>\n",
       "\t<tr><td>chr21   </td><td>31805579</td><td>31823597</td><td>DEL     </td></tr>\n",
       "\t<tr><td>chr21   </td><td>38707461</td><td>38711855</td><td>DEL     </td></tr>\n",
       "\t<tr><td>chr21   </td><td>39911596</td><td>39917079</td><td>DEL     </td></tr>\n",
       "\t<tr><td>chr21   </td><td>40475533</td><td>40479640</td><td>DEL     </td></tr>\n",
       "\t<tr><td>chr21   </td><td>40734421</td><td>40737002</td><td>DEL     </td></tr>\n",
       "\t<tr><td>chr21   </td><td>41095389</td><td>41103169</td><td>DEL     </td></tr>\n",
       "\t<tr><td>chr21   </td><td>43225917</td><td>43227501</td><td>N       </td></tr>\n",
       "\t<tr><td>chr21   </td><td>43745883</td><td>43751125</td><td>DEL     </td></tr>\n",
       "\t<tr><td>chr21   </td><td>45159386</td><td>45160874</td><td>N       </td></tr>\n",
       "\t<tr><td>chr21   </td><td>46776093</td><td>46779690</td><td>DEL     </td></tr>\n",
       "</tbody>\n",
       "</table>\n"
      ],
      "text/latex": [
       "\\begin{tabular}{llll}\n",
       " chr & start & end & Chr21.simulateDeletionsFrom1000Genomes.fa.1.x.bwa.sorted.bam\\\\\n",
       "\\hline\n",
       "\t chr21    & 16300987 & 16304083 & N       \\\\\n",
       "\t chr21    & 20836930 & 20843326 & DEL     \\\\\n",
       "\t chr21    & 21902501 & 21906181 & DEL     \\\\\n",
       "\t chr21    & 21902731 & 21906181 & N       \\\\\n",
       "\t chr21    & 23188327 & 23202327 & N       \\\\\n",
       "\t chr21    & 23188329 & 23202327 & N       \\\\\n",
       "\t chr21    & 23188501 & 23202001 & DEL     \\\\\n",
       "\t chr21    & 23654900 & 23666011 & DEL     \\\\\n",
       "\t chr21    & 24391767 & 24393237 & N       \\\\\n",
       "\t chr21    & 24391767 & 24393001 & N       \\\\\n",
       "\t chr21    & 24423315 & 24435107 & DEL     \\\\\n",
       "\t chr21    & 24423331 & 24435107 & N       \\\\\n",
       "\t chr21    & 25258373 & 25263453 & DEL     \\\\\n",
       "\t chr21    & 26344472 & 26345763 & N       \\\\\n",
       "\t chr21    & 26344482 & 26345764 & N       \\\\\n",
       "\t chr21    & 26344482 & 26345763 & N       \\\\\n",
       "\t chr21    & 26359945 & 26364584 & DEL     \\\\\n",
       "\t chr21    & 26862378 & 26865760 & N       \\\\\n",
       "\t chr21    & 26862501 & 26865760 & DEL     \\\\\n",
       "\t chr21    & 27292001 & 27296046 & N       \\\\\n",
       "\t chr21    & 27292001 & 27295539 & N       \\\\\n",
       "\t chr21    & 27292501 & 27296501 & N       \\\\\n",
       "\t chr21    & 29877996 & 29881501 & DEL     \\\\\n",
       "\t chr21    & 29877996 & 29881251 & N       \\\\\n",
       "\t chr21    & 29877997 & 29881251 & N       \\\\\n",
       "\t chr21    & 31805579 & 31823597 & DEL     \\\\\n",
       "\t chr21    & 38707461 & 38711855 & DEL     \\\\\n",
       "\t chr21    & 39911596 & 39917079 & DEL     \\\\\n",
       "\t chr21    & 40475533 & 40479640 & DEL     \\\\\n",
       "\t chr21    & 40734421 & 40737002 & DEL     \\\\\n",
       "\t chr21    & 41095389 & 41103169 & DEL     \\\\\n",
       "\t chr21    & 43225917 & 43227501 & N       \\\\\n",
       "\t chr21    & 43745883 & 43751125 & DEL     \\\\\n",
       "\t chr21    & 45159386 & 45160874 & N       \\\\\n",
       "\t chr21    & 46776093 & 46779690 & DEL     \\\\\n",
       "\\end{tabular}\n"
      ],
      "text/markdown": [
       "1. 'chr21'\n",
       "2. 'chr21'\n",
       "3. 'chr21'\n",
       "4. 'chr21'\n",
       "5. 'chr21'\n",
       "6. 'chr21'\n",
       "7. 'chr21'\n",
       "8. 'chr21'\n",
       "9. 'chr21'\n",
       "10. 'chr21'\n",
       "11. 'chr21'\n",
       "12. 'chr21'\n",
       "13. 'chr21'\n",
       "14. 'chr21'\n",
       "15. 'chr21'\n",
       "16. 'chr21'\n",
       "17. 'chr21'\n",
       "18. 'chr21'\n",
       "19. 'chr21'\n",
       "20. 'chr21'\n",
       "21. 'chr21'\n",
       "22. 'chr21'\n",
       "23. 'chr21'\n",
       "24. 'chr21'\n",
       "25. 'chr21'\n",
       "26. 'chr21'\n",
       "27. 'chr21'\n",
       "28. 'chr21'\n",
       "29. 'chr21'\n",
       "30. 'chr21'\n",
       "31. 'chr21'\n",
       "32. 'chr21'\n",
       "33. 'chr21'\n",
       "34. 'chr21'\n",
       "35. 'chr21'\n",
       "36. '16300987'\n",
       "37. '20836930'\n",
       "38. '21902501'\n",
       "39. '21902731'\n",
       "40. '23188327'\n",
       "41. '23188329'\n",
       "42. '23188501'\n",
       "43. '23654900'\n",
       "44. '24391767'\n",
       "45. '24391767'\n",
       "46. '24423315'\n",
       "47. '24423331'\n",
       "48. '25258373'\n",
       "49. '26344472'\n",
       "50. '26344482'\n",
       "51. '26344482'\n",
       "52. '26359945'\n",
       "53. '26862378'\n",
       "54. '26862501'\n",
       "55. '27292001'\n",
       "56. '27292001'\n",
       "57. '27292501'\n",
       "58. '29877996'\n",
       "59. '29877996'\n",
       "60. '29877997'\n",
       "61. '31805579'\n",
       "62. '38707461'\n",
       "63. '39911596'\n",
       "64. '40475533'\n",
       "65. '40734421'\n",
       "66. '41095389'\n",
       "67. '43225917'\n",
       "68. '43745883'\n",
       "69. '45159386'\n",
       "70. '46776093'\n",
       "71. '16304083'\n",
       "72. '20843326'\n",
       "73. '21906181'\n",
       "74. '21906181'\n",
       "75. '23202327'\n",
       "76. '23202327'\n",
       "77. '23202001'\n",
       "78. '23666011'\n",
       "79. '24393237'\n",
       "80. '24393001'\n",
       "81. '24435107'\n",
       "82. '24435107'\n",
       "83. '25263453'\n",
       "84. '26345763'\n",
       "85. '26345764'\n",
       "86. '26345763'\n",
       "87. '26364584'\n",
       "88. '26865760'\n",
       "89. '26865760'\n",
       "90. '27296046'\n",
       "91. '27295539'\n",
       "92. '27296501'\n",
       "93. '29881501'\n",
       "94. '29881251'\n",
       "95. '29881251'\n",
       "96. '31823597'\n",
       "97. '38711855'\n",
       "98. '39917079'\n",
       "99. '40479640'\n",
       "100. '40737002'\n",
       "101. '41103169'\n",
       "102. '43227501'\n",
       "103. '43751125'\n",
       "104. '45160874'\n",
       "105. '46779690'\n",
       "106. 'N'\n",
       "107. 'DEL'\n",
       "108. 'DEL'\n",
       "109. 'N'\n",
       "110. 'N'\n",
       "111. 'N'\n",
       "112. 'DEL'\n",
       "113. 'DEL'\n",
       "114. 'N'\n",
       "115. 'N'\n",
       "116. 'DEL'\n",
       "117. 'N'\n",
       "118. 'DEL'\n",
       "119. 'N'\n",
       "120. 'N'\n",
       "121. 'N'\n",
       "122. 'DEL'\n",
       "123. 'N'\n",
       "124. 'DEL'\n",
       "125. 'N'\n",
       "126. 'N'\n",
       "127. 'N'\n",
       "128. 'DEL'\n",
       "129. 'N'\n",
       "130. 'N'\n",
       "131. 'DEL'\n",
       "132. 'DEL'\n",
       "133. 'DEL'\n",
       "134. 'DEL'\n",
       "135. 'DEL'\n",
       "136. 'DEL'\n",
       "137. 'N'\n",
       "138. 'DEL'\n",
       "139. 'N'\n",
       "140. 'DEL'\n",
       "\n",
       "\n"
      ],
      "text/plain": [
       "      chr     start      end       \n",
       " [1,] \"chr21\" \"16300987\" \"16304083\"\n",
       " [2,] \"chr21\" \"20836930\" \"20843326\"\n",
       " [3,] \"chr21\" \"21902501\" \"21906181\"\n",
       " [4,] \"chr21\" \"21902731\" \"21906181\"\n",
       " [5,] \"chr21\" \"23188327\" \"23202327\"\n",
       " [6,] \"chr21\" \"23188329\" \"23202327\"\n",
       " [7,] \"chr21\" \"23188501\" \"23202001\"\n",
       " [8,] \"chr21\" \"23654900\" \"23666011\"\n",
       " [9,] \"chr21\" \"24391767\" \"24393237\"\n",
       "[10,] \"chr21\" \"24391767\" \"24393001\"\n",
       "[11,] \"chr21\" \"24423315\" \"24435107\"\n",
       "[12,] \"chr21\" \"24423331\" \"24435107\"\n",
       "[13,] \"chr21\" \"25258373\" \"25263453\"\n",
       "[14,] \"chr21\" \"26344472\" \"26345763\"\n",
       "[15,] \"chr21\" \"26344482\" \"26345764\"\n",
       "[16,] \"chr21\" \"26344482\" \"26345763\"\n",
       "[17,] \"chr21\" \"26359945\" \"26364584\"\n",
       "[18,] \"chr21\" \"26862378\" \"26865760\"\n",
       "[19,] \"chr21\" \"26862501\" \"26865760\"\n",
       "[20,] \"chr21\" \"27292001\" \"27296046\"\n",
       "[21,] \"chr21\" \"27292001\" \"27295539\"\n",
       "[22,] \"chr21\" \"27292501\" \"27296501\"\n",
       "[23,] \"chr21\" \"29877996\" \"29881501\"\n",
       "[24,] \"chr21\" \"29877996\" \"29881251\"\n",
       "[25,] \"chr21\" \"29877997\" \"29881251\"\n",
       "[26,] \"chr21\" \"31805579\" \"31823597\"\n",
       "[27,] \"chr21\" \"38707461\" \"38711855\"\n",
       "[28,] \"chr21\" \"39911596\" \"39917079\"\n",
       "[29,] \"chr21\" \"40475533\" \"40479640\"\n",
       "[30,] \"chr21\" \"40734421\" \"40737002\"\n",
       "[31,] \"chr21\" \"41095389\" \"41103169\"\n",
       "[32,] \"chr21\" \"43225917\" \"43227501\"\n",
       "[33,] \"chr21\" \"43745883\" \"43751125\"\n",
       "[34,] \"chr21\" \"45159386\" \"45160874\"\n",
       "[35,] \"chr21\" \"46776093\" \"46779690\"\n",
       "      Chr21.simulateDeletionsFrom1000Genomes.fa.1.x.bwa.sorted.bam\n",
       " [1,] \"N\"                                                         \n",
       " [2,] \"DEL\"                                                       \n",
       " [3,] \"DEL\"                                                       \n",
       " [4,] \"N\"                                                         \n",
       " [5,] \"N\"                                                         \n",
       " [6,] \"N\"                                                         \n",
       " [7,] \"DEL\"                                                       \n",
       " [8,] \"DEL\"                                                       \n",
       " [9,] \"N\"                                                         \n",
       "[10,] \"N\"                                                         \n",
       "[11,] \"DEL\"                                                       \n",
       "[12,] \"N\"                                                         \n",
       "[13,] \"DEL\"                                                       \n",
       "[14,] \"N\"                                                         \n",
       "[15,] \"N\"                                                         \n",
       "[16,] \"N\"                                                         \n",
       "[17,] \"DEL\"                                                       \n",
       "[18,] \"N\"                                                         \n",
       "[19,] \"DEL\"                                                       \n",
       "[20,] \"N\"                                                         \n",
       "[21,] \"N\"                                                         \n",
       "[22,] \"N\"                                                         \n",
       "[23,] \"DEL\"                                                       \n",
       "[24,] \"N\"                                                         \n",
       "[25,] \"N\"                                                         \n",
       "[26,] \"DEL\"                                                       \n",
       "[27,] \"DEL\"                                                       \n",
       "[28,] \"DEL\"                                                       \n",
       "[29,] \"DEL\"                                                       \n",
       "[30,] \"DEL\"                                                       \n",
       "[31,] \"DEL\"                                                       \n",
       "[32,] \"N\"                                                         \n",
       "[33,] \"DEL\"                                                       \n",
       "[34,] \"N\"                                                         \n",
       "[35,] \"DEL\"                                                       "
      ]
     },
     "execution_count": 2,
     "metadata": {},
     "output_type": "execute_result"
    }
   ],
   "source": [
    "finalResult[, 1:4]"
   ]
  },
  {
   "cell_type": "markdown",
   "metadata": {},
   "source": [
    "## If we want to analyse a specific region (e.g. st = 38000000, en = 42000000)\n",
    "\n",
    "Should not use this option \"adjustStartPosition\" for a specific region\n",
    "\n",
    "Should increase the size of the region if getting bugs relating to data matrix/data.frame\n"
   ]
  },
  {
   "cell_type": "code",
   "execution_count": 5,
   "metadata": {
    "collapsed": false
   },
   "outputs": [
    {
     "name": "stderr",
     "output_type": "stream",
     "text": [
      "Warning message:\n",
      "In SRBreak(readDepthWindow = windows, chr = chr, st = st, en = en, : No input for dirCoordinateWarning message:\n",
      "In dir.create(dirCoordinate): 'TempAll' already exists=============================================\n",
      "5 bam files were read\n",
      "=============================================\n",
      "Correcting the GC content\n",
      "Correcting mappability bias\n"
     ]
    },
    {
     "name": "stdout",
     "output_type": "stream",
     "text": [
      "Analyzing: Chr21.simulateDeletionsFrom1000Genomes.fa.1.x.bwa.sorted.bam \n",
      "Analyzing: Chr21.simulateDeletionsFrom1000Genomes.fa.2.x.bwa.sorted.bam \n",
      "Analyzing: Chr21.simulateDeletionsFrom1000Genomes.fa.3.x.bwa.sorted.bam \n",
      "Analyzing: Chr21.simulateDeletionsFrom1000Genomes.fa.4.x.bwa.sorted.bam \n",
      "Analyzing: Chr21.simulateDeletionsFrom1000Genomes.fa.5.x.bwa.sorted.bam \n"
     ]
    },
    {
     "name": "stderr",
     "output_type": "stream",
     "text": [
      "Calculate segmentation scores for polymorphic regions\n",
      "dim breakpointDataFrame: 18\n"
     ]
    },
    {
     "name": "stdout",
     "output_type": "stream",
     "text": [
      "IRanges of length 6\n",
      "       start      end  width\n",
      "[1]  9411193  9595548 184356\n",
      "[2]  9645548  9775437 129890\n",
      "[3]  9825437  9831950   6514\n",
      "[4]  9835309 10034920 199612\n",
      "[5] 10085035 10215976 130942\n",
      "[6] 10365976 10645979 280004\n"
     ]
    },
    {
     "data": {
      "text/plain": [
       "   user  system elapsed \n",
       " 15.124   0.208  15.335 "
      ]
     },
     "execution_count": 5,
     "metadata": {},
     "output_type": "execute_result"
    },
    {
     "data": {
      "text/plain": [
       "NULL"
      ]
     },
     "execution_count": 5,
     "metadata": {},
     "output_type": "execute_result"
    },
    {
     "data": {
      "text/plain": [
       "NULL"
      ]
     },
     "execution_count": 5,
     "metadata": {},
     "output_type": "execute_result"
    }
   ],
   "source": [
    "rm(list=ls())\n",
    "source(\"allSourceFile.R\")\n",
    "\n",
    "library(\"VariantAnnotation\") \n",
    "library(\"BSgenome.Hsapiens.UCSC.hg19\")\n",
    "library(\"mclust\")\n",
    "library(\"Rsamtools\")\n",
    "\n",
    "#link file: https://www.dropbox.com/sh/wejg4r37kdkjokc/AADglfiSzny1bJ4w1ROAVERoa?dl=0\n",
    "#\n",
    "\n",
    "dirBamFile = \"./Chr21BamFile/\"\n",
    "\n",
    "segmentalDuplicationFile = paste0(dirBamFile, \"GRCh37GenomicSuperDup.tab.onlyChr21\")\n",
    "##Segmental duplication information can be obtained from here: http://humanparalogy.gs.washington.edu/build37/data/GRCh37GenomicSuperDup.tab\n",
    "##and should be formatted as the file GRCh37GenomicSuperDup.tab.onlyChr21 for each chromosome\n",
    "\n",
    "st = 38000000 \n",
    "en = 39000000 ##End position \n",
    "windows = 500\n",
    "\n",
    "chr = \"chr21\"\n",
    "\n",
    "system.time(outputSRBreak <- SRBreak(readDepthWindow = windows,##read-depth window size\n",
    "\n",
    "                                     chr = chr, ##Chromosome name\n",
    "\n",
    "                                     st = st, ##Start position\n",
    "\n",
    "                                     en = en, ##End position\n",
    "\n",
    "                                     dirBamFile = dirBamFile, ##Bam files' directory\n",
    "\n",
    "                                     detectAllRegion = TRUE, ##Set this = TRUE in order to obtain all CNV regions\n",
    "\n",
    "                                     rdQualityMapping = 0, ##Mapping quality (used in read-depth method)\n",
    "\n",
    "                                     testType = \"Count\", ##Test type\n",
    "\n",
    "                                     correctGC =  TRUE, #   FALSE, ##Correct GC content\n",
    "\n",
    "                                     upperCNThreshold = 0.25, ##Larger than this threshold is duplication\n",
    "\n",
    "                                     lowerCNThreshold = -0.25, ##Smaller than this threshold is deletion\n",
    "\n",
    "                                     countThreshold = 2, ##Number of duplications/deletions: should be >= 2 \n",
    "\n",
    "                                     minLengthSV = 1000, ##Minimum length of a duplication/deletion event\n",
    "\n",
    "#                                     mappabilityFile = \"wgEncodeCrgMapabilityAlign100mer.bigWig.Window.500.start.1.end.48129895.txt\",\n",
    "                                     usingPairedEnds = FALSE, ##Not use paired-end information,\n",
    "\n",
    "                                     thresholdOfIntersectionBetweenRDandPEM = 0.9 #Not useful if only single-end reads used\n",
    "                                     , segmentalDuplicationFile = segmentalDuplicationFile,\n",
    "                                     adjustStartPosition = FALSE #TRUE ##Adjust positions\n",
    "                                    ))\n",
    "\n",
    "rawoutputSV <- outputSRBreak$svResult\n",
    "\n",
    "dim(rawoutputSV)\n",
    "\n",
    "\n",
    "finalResult <- rawoutputSV\n",
    "dim(finalResult)\n"
   ]
  },
  {
   "cell_type": "code",
   "execution_count": 6,
   "metadata": {
    "collapsed": false
   },
   "outputs": [
    {
     "data": {
      "text/html": [
       "<dl class=dl-horizontal>\n",
       "\t<dt>chr</dt>\n",
       "\t\t<dd>'chr21'</dd>\n",
       "\t<dt>start</dt>\n",
       "\t\t<dd>'38707461'</dd>\n",
       "\t<dt>end</dt>\n",
       "\t\t<dd>'38711855'</dd>\n",
       "\t<dt>Chr21.simulateDeletionsFrom1000Genomes.fa.1.x.bwa.sorted.bam</dt>\n",
       "\t\t<dd>'DEL'</dd>\n",
       "\t<dt>Chr21.simulateDeletionsFrom1000Genomes.fa.2.x.bwa.sorted.bam</dt>\n",
       "\t\t<dd>'DEL'</dd>\n",
       "\t<dt>Chr21.simulateDeletionsFrom1000Genomes.fa.3.x.bwa.sorted.bam</dt>\n",
       "\t\t<dd>'DEL'</dd>\n",
       "\t<dt>Chr21.simulateDeletionsFrom1000Genomes.fa.4.x.bwa.sorted.bam</dt>\n",
       "\t\t<dd>'DEL'</dd>\n",
       "\t<dt>Chr21.simulateDeletionsFrom1000Genomes.fa.5.x.bwa.sorted.bam</dt>\n",
       "\t\t<dd>'DEL'</dd>\n",
       "</dl>\n"
      ],
      "text/latex": [
       "\\begin{description*}\n",
       "\\item[chr] 'chr21'\n",
       "\\item[start] '38707461'\n",
       "\\item[end] '38711855'\n",
       "\\item[Chr21.simulateDeletionsFrom1000Genomes.fa.1.x.bwa.sorted.bam] 'DEL'\n",
       "\\item[Chr21.simulateDeletionsFrom1000Genomes.fa.2.x.bwa.sorted.bam] 'DEL'\n",
       "\\item[Chr21.simulateDeletionsFrom1000Genomes.fa.3.x.bwa.sorted.bam] 'DEL'\n",
       "\\item[Chr21.simulateDeletionsFrom1000Genomes.fa.4.x.bwa.sorted.bam] 'DEL'\n",
       "\\item[Chr21.simulateDeletionsFrom1000Genomes.fa.5.x.bwa.sorted.bam] 'DEL'\n",
       "\\end{description*}\n"
      ],
      "text/markdown": [
       "chr\n",
       ":   'chr21'start\n",
       ":   '38707461'end\n",
       ":   '38711855'Chr21.simulateDeletionsFrom1000Genomes.fa.1.x.bwa.sorted.bam\n",
       ":   'DEL'Chr21.simulateDeletionsFrom1000Genomes.fa.2.x.bwa.sorted.bam\n",
       ":   'DEL'Chr21.simulateDeletionsFrom1000Genomes.fa.3.x.bwa.sorted.bam\n",
       ":   'DEL'Chr21.simulateDeletionsFrom1000Genomes.fa.4.x.bwa.sorted.bam\n",
       ":   'DEL'Chr21.simulateDeletionsFrom1000Genomes.fa.5.x.bwa.sorted.bam\n",
       ":   'DEL'\n",
       "\n"
      ],
      "text/plain": [
       "                                                         chr \n",
       "                                                     \"chr21\" \n",
       "                                                       start \n",
       "                                                  \"38707461\" \n",
       "                                                         end \n",
       "                                                  \"38711855\" \n",
       "Chr21.simulateDeletionsFrom1000Genomes.fa.1.x.bwa.sorted.bam \n",
       "                                                       \"DEL\" \n",
       "Chr21.simulateDeletionsFrom1000Genomes.fa.2.x.bwa.sorted.bam \n",
       "                                                       \"DEL\" \n",
       "Chr21.simulateDeletionsFrom1000Genomes.fa.3.x.bwa.sorted.bam \n",
       "                                                       \"DEL\" \n",
       "Chr21.simulateDeletionsFrom1000Genomes.fa.4.x.bwa.sorted.bam \n",
       "                                                       \"DEL\" \n",
       "Chr21.simulateDeletionsFrom1000Genomes.fa.5.x.bwa.sorted.bam \n",
       "                                                       \"DEL\" "
      ]
     },
     "execution_count": 6,
     "metadata": {},
     "output_type": "execute_result"
    }
   ],
   "source": [
    "(finalResult)\n"
   ]
  },
  {
   "cell_type": "markdown",
   "metadata": {},
   "source": [
    "## Test for only two samples\n",
    "\n",
    "### Note: SBReak was designed to work for multiple samples. It can work for >= 2 samples, but we suggest that users should use >= 5 samples as in our paper.\n",
    "\n",
    "#### We should make a folder and then copy two files to the folder\n",
    "mkdir TempChr21\n",
    "\n",
    "cp Chr21BamFile/Chr21.simulateDeletionsFrom1000Genomes.fa.*1.x* TempChr21/\n",
    "\n",
    "cp Chr21BamFile/Chr21.simulateDeletionsFrom1000Genomes.fa.*5.x* TempChr21/\n",
    "\n",
    "cp Chr21BamFile/GRCh37GenomicSuperDup.tab.onlyChr21 TempChr21/"
   ]
  },
  {
   "cell_type": "code",
   "execution_count": 2,
   "metadata": {
    "collapsed": false
   },
   "outputs": [
    {
     "name": "stderr",
     "output_type": "stream",
     "text": [
      "Warning message:\n",
      "In SRBreak(readDepthWindow = windows, chr = chr, st = st, en = en, : No input for dirCoordinateWarning message:\n",
      "In dir.create(dirCoordinate): 'TempAll' already exists=============================================\n",
      "2 bam files were read\n",
      "=============================================\n",
      "Correcting the GC content\n",
      "Correcting mappability bias\n"
     ]
    },
    {
     "name": "stdout",
     "output_type": "stream",
     "text": [
      "Analyzing: Chr21.simulateDeletionsFrom1000Genomes.fa.1.x.bwa.sorted.bam \n",
      "Analyzing: Chr21.simulateDeletionsFrom1000Genomes.fa.5.x.bwa.sorted.bam \n"
     ]
    },
    {
     "name": "stderr",
     "output_type": "stream",
     "text": [
      "Calculate segmentation scores for polymorphic regions\n",
      "dim breakpointDataFrame: 15\n"
     ]
    },
    {
     "name": "stdout",
     "output_type": "stream",
     "text": [
      "IRanges of length 6\n",
      "       start      end  width\n",
      "[1]  9411193  9595548 184356\n",
      "[2]  9645548  9775437 129890\n",
      "[3]  9825437  9831950   6514\n",
      "[4]  9835309 10034920 199612\n",
      "[5] 10085035 10215976 130942\n",
      "[6] 10365976 10645979 280004\n"
     ]
    },
    {
     "data": {
      "text/plain": [
       "   user  system elapsed \n",
       "  6.584   0.108   6.698 "
      ]
     },
     "execution_count": 2,
     "metadata": {},
     "output_type": "execute_result"
    },
    {
     "data": {
      "text/plain": [
       "NULL"
      ]
     },
     "execution_count": 2,
     "metadata": {},
     "output_type": "execute_result"
    },
    {
     "data": {
      "text/plain": [
       "NULL"
      ]
     },
     "execution_count": 2,
     "metadata": {},
     "output_type": "execute_result"
    }
   ],
   "source": [
    "rm(list=ls())\n",
    "source(\"allSourceFile.R\")\n",
    "\n",
    "library(\"VariantAnnotation\") \n",
    "library(\"BSgenome.Hsapiens.UCSC.hg19\")\n",
    "library(\"mclust\")\n",
    "library(\"Rsamtools\")\n",
    "\n",
    "#link file: https://www.dropbox.com/sh/wejg4r37kdkjokc/AADglfiSzny1bJ4w1ROAVERoa?dl=0\n",
    "#\n",
    "\n",
    "dirBamFile = \"./TempChr21/\"\n",
    "\n",
    "segmentalDuplicationFile = paste0(dirBamFile, \"GRCh37GenomicSuperDup.tab.onlyChr21\")\n",
    "##Segmental duplication information can be obtained from here: http://humanparalogy.gs.washington.edu/build37/data/GRCh37GenomicSuperDup.tab\n",
    "##and should be formatted as the file GRCh37GenomicSuperDup.tab.onlyChr21 for each chromosome\n",
    "\n",
    "st = 38000000 \n",
    "en = 39000000 ##End position \n",
    "windows = 500\n",
    "\n",
    "chr = \"chr21\"\n",
    "\n",
    "system.time(outputSRBreak <- SRBreak(readDepthWindow = windows,##read-depth window size\n",
    "\n",
    "                                     chr = chr, ##Chromosome name\n",
    "\n",
    "                                     st = st, ##Start position\n",
    "\n",
    "                                     en = en, ##End position\n",
    "\n",
    "                                     dirBamFile = dirBamFile, ##Bam files' directory\n",
    "\n",
    "                                     detectAllRegion = TRUE, ##Set this = TRUE in order to obtain all CNV regions\n",
    "\n",
    "                                     rdQualityMapping = 0, ##Mapping quality (used in read-depth method)\n",
    "\n",
    "                                     testType = \"Count\", ##Test type\n",
    "\n",
    "                                     correctGC =  TRUE, #   FALSE, ##Correct GC content\n",
    "\n",
    "                                     upperCNThreshold = 0.25, ##Larger than this threshold is duplication\n",
    "\n",
    "                                     lowerCNThreshold = -0.25, ##Smaller than this threshold is deletion\n",
    "\n",
    "                                     countThreshold = 2, ##Number of duplications/deletions: should be >= 2 \n",
    "\n",
    "                                     minLengthSV = 1000, ##Minimum length of a duplication/deletion event\n",
    "\n",
    "#                                     mappabilityFile = \"wgEncodeCrgMapabilityAlign100mer.bigWig.Window.500.start.1.end.48129895.txt\",\n",
    "                                     usingPairedEnds = FALSE, ##Not use paired-end information,\n",
    "\n",
    "                                     thresholdOfIntersectionBetweenRDandPEM = 0.9 #Not useful if only single-end reads used\n",
    "                                     , segmentalDuplicationFile = segmentalDuplicationFile,\n",
    "                                     adjustStartPosition = FALSE #TRUE ##Adjust positions\n",
    "                                    ))\n",
    "\n",
    "rawoutputSV <- outputSRBreak$svResult\n",
    "\n",
    "dim(rawoutputSV)\n",
    "\n",
    "\n",
    "finalResult <- rawoutputSV\n",
    "dim(finalResult)\n"
   ]
  },
  {
   "cell_type": "code",
   "execution_count": 3,
   "metadata": {
    "collapsed": false
   },
   "outputs": [
    {
     "data": {
      "text/html": [
       "<dl class=dl-horizontal>\n",
       "\t<dt>chr</dt>\n",
       "\t\t<dd>'chr21'</dd>\n",
       "\t<dt>start</dt>\n",
       "\t\t<dd>'38707461'</dd>\n",
       "\t<dt>end</dt>\n",
       "\t\t<dd>'38711855'</dd>\n",
       "\t<dt>Chr21.simulateDeletionsFrom1000Genomes.fa.1.x.bwa.sorted.bam</dt>\n",
       "\t\t<dd>'DEL'</dd>\n",
       "\t<dt>Chr21.simulateDeletionsFrom1000Genomes.fa.5.x.bwa.sorted.bam</dt>\n",
       "\t\t<dd>'DEL'</dd>\n",
       "</dl>\n"
      ],
      "text/latex": [
       "\\begin{description*}\n",
       "\\item[chr] 'chr21'\n",
       "\\item[start] '38707461'\n",
       "\\item[end] '38711855'\n",
       "\\item[Chr21.simulateDeletionsFrom1000Genomes.fa.1.x.bwa.sorted.bam] 'DEL'\n",
       "\\item[Chr21.simulateDeletionsFrom1000Genomes.fa.5.x.bwa.sorted.bam] 'DEL'\n",
       "\\end{description*}\n"
      ],
      "text/markdown": [
       "chr\n",
       ":   'chr21'start\n",
       ":   '38707461'end\n",
       ":   '38711855'Chr21.simulateDeletionsFrom1000Genomes.fa.1.x.bwa.sorted.bam\n",
       ":   'DEL'Chr21.simulateDeletionsFrom1000Genomes.fa.5.x.bwa.sorted.bam\n",
       ":   'DEL'\n",
       "\n"
      ],
      "text/plain": [
       "                                                         chr \n",
       "                                                     \"chr21\" \n",
       "                                                       start \n",
       "                                                  \"38707461\" \n",
       "                                                         end \n",
       "                                                  \"38711855\" \n",
       "Chr21.simulateDeletionsFrom1000Genomes.fa.1.x.bwa.sorted.bam \n",
       "                                                       \"DEL\" \n",
       "Chr21.simulateDeletionsFrom1000Genomes.fa.5.x.bwa.sorted.bam \n",
       "                                                       \"DEL\" "
      ]
     },
     "execution_count": 3,
     "metadata": {},
     "output_type": "execute_result"
    }
   ],
   "source": [
    "finalResult"
   ]
  },
  {
   "cell_type": "code",
   "execution_count": null,
   "metadata": {
    "collapsed": true
   },
   "outputs": [],
   "source": []
  }
 ],
 "metadata": {
  "kernelspec": {
   "display_name": "R",
   "language": "R",
   "name": "ir"
  },
  "language_info": {
   "codemirror_mode": "r",
   "file_extension": ".r",
   "mimetype": "text/x-r-source",
   "name": "R",
   "pygments_lexer": "r",
   "version": "3.2.2"
  }
 },
 "nbformat": 4,
 "nbformat_minor": 0
}
